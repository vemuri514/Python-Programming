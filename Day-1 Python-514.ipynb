{
 "cells": [
  {
   "cell_type": "markdown",
   "id": "28492c15",
   "metadata": {},
   "source": [
    "# summation of two numbers\n"
   ]
  },
  {
   "cell_type": "code",
   "execution_count": 1,
   "id": "fb113179",
   "metadata": {},
   "outputs": [
    {
     "name": "stdout",
     "output_type": "stream",
     "text": [
      "enter first number6\n",
      "enter second number5\n",
      "summation:11\n"
     ]
    }
   ],
   "source": [
    "num1=int(input(\"enter first number\"))\n",
    "num2=int(input(\"enter second number\"))\n",
    "print(f\"summation:{num1+num2}\")"
   ]
  },
  {
   "cell_type": "markdown",
   "id": "2927f484",
   "metadata": {},
   "source": [
    "# program to read an integer value to check digit or not\n"
   ]
  },
  {
   "cell_type": "code",
   "execution_count": 8,
   "id": "f117607c",
   "metadata": {},
   "outputs": [
    {
     "name": "stdout",
     "output_type": "stream",
     "text": [
      "enter the integer: 5\n",
      "Digit\n"
     ]
    }
   ],
   "source": [
    "num=int(input(\"enter the integer: \"))\n",
    "#if -else\n",
    "if(num>=-9 and num<=9):\n",
    "    print(\"Digit\")\n",
    "else:\n",
    "    print(\"Number\")\n",
    "#ternery operator\n",
    "#res=\"Digit\" if(num>=9 and num<=9)else \"Number\"\n",
    "#print(res)"
   ]
  },
  {
   "cell_type": "markdown",
   "id": "31e70808",
   "metadata": {},
   "source": [
    "# two digit number or not\n"
   ]
  },
  {
   "cell_type": "code",
   "execution_count": 12,
   "id": "2315f056",
   "metadata": {},
   "outputs": [
    {
     "name": "stdout",
     "output_type": "stream",
     "text": [
      "enter the integer:14\n",
      "two digit number\n"
     ]
    }
   ],
   "source": [
    "num=int(input(\"enter the integer:\"))\n",
    "if((num>=10 and num<=99) or (num>=-99 and num<=-10)):\n",
    "    print(\"two digit number\")\n",
    "else:\n",
    "    print(\"not a two digit number\")\n"
   ]
  },
  {
   "cell_type": "raw",
   "id": "75e7f3ae",
   "metadata": {},
   "source": []
  },
  {
   "cell_type": "markdown",
   "id": "f59b34c7",
   "metadata": {},
   "source": [
    "# three digit number or not"
   ]
  },
  {
   "cell_type": "code",
   "execution_count": 3,
   "id": "76c318a4",
   "metadata": {},
   "outputs": [
    {
     "name": "stdout",
     "output_type": "stream",
     "text": [
      "enter the integer956\n",
      "Three digit number\n"
     ]
    }
   ],
   "source": [
    "num=int(input(\"enter the integer\"))\n",
    "if((num>=100 and num<=999) or (num>=-999 and num<=-100)):\n",
    "    print(\"Three digit number\")\n",
    "else:\n",
    "    print(\"Not a three digit number\")\n"
   ]
  },
  {
   "cell_type": "markdown",
   "id": "455b995a",
   "metadata": {},
   "source": [
    "# Four digit or not\n"
   ]
  },
  {
   "cell_type": "code",
   "execution_count": 12,
   "id": "5a4874aa",
   "metadata": {},
   "outputs": [
    {
     "name": "stdout",
     "output_type": "stream",
     "text": [
      "enter the integer1111\n",
      "Four digit number\n"
     ]
    }
   ],
   "source": [
    "num=int(input(\"enter the integer\"))\n",
    "if((num>=1000 and num<=9999) or (num>=-9999 and num<=-1000)):\n",
    "    print(\"Four digit number\")\n",
    "else:\n",
    "    print(\"Not a four digit number\")"
   ]
  },
  {
   "cell_type": "markdown",
   "id": "c1436035",
   "metadata": {},
   "source": [
    "# Largest of 2 numbers"
   ]
  },
  {
   "cell_type": "code",
   "execution_count": 8,
   "id": "7a08055f",
   "metadata": {},
   "outputs": [
    {
     "name": "stdout",
     "output_type": "stream",
     "text": [
      "enter the first integer10\n",
      "enter the second integer45\n",
      "45 is largest number\n",
      "45 is largest number\n"
     ]
    }
   ],
   "source": [
    "num1=int(input(\"enter the first integer\"))\n",
    "num2=int(input(\"enter the second integer\"))\n",
    "if(num1>num2):\n",
    "    print(f\"{num1} is largest number\")\n",
    "else:\n",
    "    print(f\"{num2} is largest number\")\n",
    "#ternery operator\n",
    "res=num1 if(num1>num2) else num2\n",
    "print(f\"{res} is largest number\")"
   ]
  },
  {
   "cell_type": "markdown",
   "id": "48a55734",
   "metadata": {},
   "source": [
    "# smallest of 2 numbers"
   ]
  },
  {
   "cell_type": "code",
   "execution_count": 11,
   "id": "4d8760f2",
   "metadata": {},
   "outputs": [
    {
     "name": "stdout",
     "output_type": "stream",
     "text": [
      "enter the first integer20\n",
      "enter the second integer40\n",
      "20 is smallest number\n",
      "20 is smallest number\n"
     ]
    }
   ],
   "source": [
    "num1=int(input(\"enter the first integer\"))\n",
    "num2=int(input(\"enter the second integer\"))\n",
    "if(num1<num2):\n",
    "    print(f\"{num1} is smallest number\")\n",
    "else:\n",
    "    print(f\"{num2} is smallest number\")\n",
    "#ternery operator\n",
    "res=num1 if(num1<num2) else num2\n",
    "print(f\"{res} is smallest number\")"
   ]
  },
  {
   "cell_type": "markdown",
   "id": "12ee40bc",
   "metadata": {},
   "source": [
    "# read 3 integers ..largest\n"
   ]
  },
  {
   "cell_type": "code",
   "execution_count": 25,
   "id": "ce67200d",
   "metadata": {},
   "outputs": [
    {
     "name": "stdout",
     "output_type": "stream",
     "text": [
      "enter the first integer100\n",
      "enter the second integer250\n",
      "enter the second integer50\n",
      "250 is largest number\n",
      "250 is largest number\n"
     ]
    }
   ],
   "source": [
    "num1=int(input(\"enter the first integer\"))\n",
    "num2=int(input(\"enter the second integer\"))\n",
    "num3=int(input(\"enter the second integer\"))\n",
    "if(num1>num2 and num1>num3):\n",
    "    print(f\"{num1} is largest number\")\n",
    "elif(num2>num3 and num2>num1):\n",
    "    print(f\"{num2} is largest number\")\n",
    "else:\n",
    "    print(f\"{num3} is largest number\")\n",
    "#ternery operator\n",
    "largest=num1 if(num1>num2 and num1>num3) else num2\n",
    "res=num3 if(num3>num1 and num3>num2) else largest\n",
    "print(f\"{res} is largest number\")\n"
   ]
  },
  {
   "cell_type": "markdown",
   "id": "688ef80a",
   "metadata": {},
   "source": [
    "# read 3 integers ..largest# "
   ]
  },
  {
   "cell_type": "code",
   "execution_count": 26,
   "id": "c10d7d0f",
   "metadata": {},
   "outputs": [
    {
     "name": "stdout",
     "output_type": "stream",
     "text": [
      "enter the first integer10\n",
      "enter the second integer100\n",
      "enter the second integer568\n",
      "10 is smallest number\n",
      "10 is smallest number\n"
     ]
    }
   ],
   "source": [
    "num1=int(input(\"enter the first integer\"))\n",
    "num2=int(input(\"enter the second integer\"))\n",
    "num3=int(input(\"enter the second integer\"))\n",
    "if(num1<num2 and num1<num3):\n",
    "    print(f\"{num1} is smallest number\")\n",
    "elif(num2<num3 and num2<num1):\n",
    "    print(f\"{num2} is smallest number\")\n",
    "else:\n",
    "    print(f\"{num3} is smallest number\")\n",
    "#ternery operator\n",
    "largest=num1 if(num1<num2 and num1<num3) else num2\n",
    "res=num3 if(num3<num1 and num3<num2) else largest\n",
    "print(f\"{res} is smallest number\")\n"
   ]
  },
  {
   "cell_type": "markdown",
   "id": "c07af30a",
   "metadata": {},
   "source": [
    "# middle no. of 3 numbers"
   ]
  },
  {
   "cell_type": "code",
   "execution_count": 28,
   "id": "35aff61c",
   "metadata": {},
   "outputs": [
    {
     "name": "stdout",
     "output_type": "stream",
     "text": [
      "enter the first integer10\n",
      "enter the second integer20\n",
      "enter the second integer15\n",
      "15 is middle number\n"
     ]
    }
   ],
   "source": [
    "num1=int(input(\"enter the first integer\"))\n",
    "num2=int(input(\"enter the second integer\"))\n",
    "num3=int(input(\"enter the second integer\"))\n",
    "if(num1<=num2 and num2<=num3 and num3<=num2 and num2<=num1):\n",
    "    print(f\"{num2} is middle number\")\n",
    "elif(num2<=num1 and num1<=num3 and num3<=num1 and num1<=num3):\n",
    "    print(f\"{num1} is middle number\")\n",
    "else:\n",
    "    print(f\"{num3} is middle number\")"
   ]
  },
  {
   "cell_type": "markdown",
   "id": "66c9a427",
   "metadata": {},
   "source": [
    "# read month number as input & check whether a valid month no. or not"
   ]
  },
  {
   "cell_type": "code",
   "execution_count": 8,
   "id": "b2d634c0",
   "metadata": {},
   "outputs": [
    {
     "name": "stdout",
     "output_type": "stream",
     "text": [
      "enter a month number11\n",
      "11 is valid month\n"
     ]
    }
   ],
   "source": [
    "num=int(input(\"enter a month number\"))\n",
    "if(num>=1 and num<=12):\n",
    "    print(f\"{num} is valid month\")\n",
    "else:\n",
    "    print(f\"{num} is not a valid month\")"
   ]
  },
  {
   "cell_type": "markdown",
   "id": "bc1c444d",
   "metadata": {},
   "source": [
    "# read month no. as input & print respective no. of days present in particular month"
   ]
  },
  {
   "cell_type": "code",
   "execution_count": 14,
   "id": "dd4c1e7f",
   "metadata": {},
   "outputs": [
    {
     "name": "stdout",
     "output_type": "stream",
     "text": [
      "enter a month number11\n",
      "30 days\n"
     ]
    }
   ],
   "source": [
    "m=int(input(\"enter a month number\"))\n",
    "if(m==1 or m==3 or m==5 or m==7 or m==8 or m==10 or m==12):\n",
    "      print(\"31  days\")\n",
    "elif(m==2):\n",
    "      print(\"28 or 29 days\")\n",
    "elif(m==4 or m==6 or m==9 or m==11):\n",
    "      print(\"30 days\")\n",
    "else:\n",
    "      print(\"invalid month number\")\n"
   ]
  },
  {
   "cell_type": "markdown",
   "id": "14a91ac0",
   "metadata": {},
   "source": [
    "# user entered age is eligible to vote or not"
   ]
  },
  {
   "cell_type": "code",
   "execution_count": 19,
   "id": "86de3ca8",
   "metadata": {},
   "outputs": [
    {
     "name": "stdout",
     "output_type": "stream",
     "text": [
      "enter age:18\n",
      "eligible to vote\n"
     ]
    }
   ],
   "source": [
    "age=int(input(\"enter age:\"))\n",
    "if(age>=18):\n",
    "    print(\"eligible to vote\")\n",
    "else:\n",
    "    print(\"not eligible to vote\")"
   ]
  },
  {
   "cell_type": "markdown",
   "id": "31d4c1a7",
   "metadata": {},
   "source": [
    "# read integer value as input & check it is even or odd no.\n"
   ]
  },
  {
   "cell_type": "code",
   "execution_count": 21,
   "id": "0fa5c7d0",
   "metadata": {},
   "outputs": [
    {
     "name": "stdout",
     "output_type": "stream",
     "text": [
      "enter a integer value13\n",
      "odd number\n"
     ]
    }
   ],
   "source": [
    "num=int(input(\"enter a integer value\"))\n",
    "if(num%2==0):\n",
    "    print(\"even number\")\n",
    "else:\n",
    "    print(\"odd number\")"
   ]
  },
  {
   "cell_type": "markdown",
   "id": "408ba2db",
   "metadata": {},
   "source": [
    "# read integer value& check it is multiple of 3&5 or not"
   ]
  },
  {
   "cell_type": "code",
   "execution_count": 23,
   "id": "866f710c",
   "metadata": {},
   "outputs": [
    {
     "name": "stdout",
     "output_type": "stream",
     "text": [
      "eneter an integer value15\n",
      "number is multiple of 3 & 5\n"
     ]
    }
   ],
   "source": [
    "num=int(input(\"eneter an integer value\"))\n",
    "if(num%3==0 and num%5==0):\n",
    "    print(\"number is multiple of 3 & 5\")\n",
    "else:\n",
    "    print(\"number is not a multiple of 3 & 5\")"
   ]
  },
  {
   "cell_type": "markdown",
   "id": "b1174ede",
   "metadata": {},
   "source": [
    "# read integer value & print FizzBuzz if it is divisible by 3& 5 ..fizz-3..buzz-5"
   ]
  },
  {
   "cell_type": "code",
   "execution_count": 29,
   "id": "08118cb1",
   "metadata": {
    "scrolled": true
   },
   "outputs": [
    {
     "name": "stdout",
     "output_type": "stream",
     "text": [
      "eneter an integer value3\n",
      "Fizz\n"
     ]
    }
   ],
   "source": [
    "n=int(input(\"eneter an integer value:\"))\n",
    "if(n%3==0 and n%5==0):\n",
    "    print(\"FizzBuzz\")\n",
    "elif(n%3==0):\n",
    "    print(\"Fizz\")\n",
    "elif(n%5==0):\n",
    "    print(\"Buzz\")"
   ]
  },
  {
   "cell_type": "markdown",
   "id": "645aad83",
   "metadata": {},
   "source": [
    "# read amount as input no.of notes required in indian currency "
   ]
  },
  {
   "cell_type": "code",
   "execution_count": 30,
   "id": "7678815a",
   "metadata": {},
   "outputs": [
    {
     "name": "stdout",
     "output_type": "stream",
     "text": [
      "enter the amount2500\n",
      "500---->5\n",
      "200---->0\n",
      "100---->0\n",
      "50---->0\n",
      "20---->0\n",
      "10---->0\n",
      "5---->0\n",
      "2---->0\n",
      "1---->0\n"
     ]
    }
   ],
   "source": [
    "amount=int(input(\"enter the amount\"))\n",
    "print(f\"500---->{amount//500}\")\n",
    "amount=amount%500\n",
    "print(f\"200---->{amount//200}\")\n",
    "amount=amount%200\n",
    "print(f\"100---->{amount//100}\")\n",
    "amount=amount%100\n",
    "print(f\"50---->{amount//50}\")\n",
    "amount=amount%50\n",
    "print(f\"20---->{amount//20}\")\n",
    "amount=amount%20\n",
    "print(f\"10---->{amount//10}\")\n",
    "amount=amount%10\n",
    "print(f\"5---->{amount//5}\")\n",
    "amount=amount%5\n",
    "print(f\"2---->{amount//2}\")\n",
    "amount=amount%2\n",
    "print(f\"1---->{amount//1}\")\n",
    "\n",
    "\n",
    "\n",
    "\n",
    "\n",
    "\n",
    "\n"
   ]
  },
  {
   "cell_type": "markdown",
   "id": "872d24cc",
   "metadata": {},
   "source": [
    "# DAY-2"
   ]
  },
  {
   "cell_type": "markdown",
   "id": "c9e400a2",
   "metadata": {},
   "source": [
    "# ATM Withdrawl validation"
   ]
  },
  {
   "cell_type": "code",
   "execution_count": 4,
   "id": "71b29777",
   "metadata": {},
   "outputs": [
    {
     "name": "stdout",
     "output_type": "stream",
     "text": [
      "enter the amount6255\n",
      "Insufficient balanec,amount should be multiple of 100\n"
     ]
    }
   ],
   "source": [
    "amount=int(input(\"enter the amount\"))\n",
    "if(amount<=5000 and amount%100==0):\n",
    "    print(\"allow withdrawl\")\n",
    "else:\n",
    "    print(\"Insufficient balanec,amount should be multiple of 100\")\n",
    "  "
   ]
  },
  {
   "cell_type": "markdown",
   "id": "860aa967",
   "metadata": {},
   "source": [
    "# Traffic signal decision"
   ]
  },
  {
   "cell_type": "code",
   "execution_count": 30,
   "id": "9e70380c",
   "metadata": {},
   "outputs": [
    {
     "name": "stdout",
     "output_type": "stream",
     "text": [
      "enter the traffic light colorgreen\n",
      "you can go\n"
     ]
    }
   ],
   "source": [
    "color=input(\"enter the traffic light color\").lower()\n",
    "if(color==\"red\"):\n",
    "    print(\"Stop immediately\")\n",
    "elif(color==\"yellow\"):\n",
    "    print(\"Get ready to move\")\n",
    "elif(color==\"green\"):\n",
    "    print(\"you can go\")\n",
    "else:\n",
    "    print(\"not a traffic light color\")\n"
   ]
  },
  {
   "cell_type": "markdown",
   "id": "6edd0ea8",
   "metadata": {},
   "source": [
    "# Movie ticket pricing"
   ]
  },
  {
   "cell_type": "code",
   "execution_count": 13,
   "id": "8e44d572",
   "metadata": {},
   "outputs": [
    {
     "name": "stdout",
     "output_type": "stream",
     "text": [
      "enter your age20\n",
      "ticket price is 300\n"
     ]
    }
   ],
   "source": [
    "age=int(input(\"enter your age in years\"))\n",
    "if(age<12):\n",
    "    print(\"ticket price is 150\")\n",
    "elif(age>=12 and age<=18):\n",
    "    print(\"ticket price is 200\")\n",
    "else:\n",
    "    print(\"ticket price is 300\")"
   ]
  },
  {
   "cell_type": "markdown",
   "id": "45bffdff",
   "metadata": {},
   "source": [
    "# Employee overtime pay"
   ]
  },
  {
   "cell_type": "code",
   "execution_count": 15,
   "id": "694ec21a",
   "metadata": {},
   "outputs": [
    {
     "name": "stdout",
     "output_type": "stream",
     "text": [
      "enter the number of hours worked3\n",
      "no overtime pay\n"
     ]
    }
   ],
   "source": [
    "hours=int(input(\"enter the number of hours worked\"))\n",
    "if(hours>8):\n",
    "    print(\"100 per extra hour\")\n",
    "else:\n",
    "    print(\"no overtime pay\")"
   ]
  },
  {
   "cell_type": "markdown",
   "id": "e0e90dc3",
   "metadata": {},
   "source": [
    "# Restaurant discount system"
   ]
  },
  {
   "cell_type": "code",
   "execution_count": 26,
   "id": "f5cd0437",
   "metadata": {},
   "outputs": [
    {
     "name": "stdout",
     "output_type": "stream",
     "text": [
      "enter the bill600\n",
      "570.0 is the final amount\n"
     ]
    }
   ],
   "source": [
    "bill=int(input(\"enter the bill\"))\n",
    "if(bill>1000):\n",
    "    print(f\"{bill-((10/100)*bill)} is the final amount\")\n",
    "elif(bill>500 and bill<=1000):\n",
    "    print(f\"{bill-((5/100)*bill)} is the final amount\")\n",
    "else:\n",
    "    print(\"No discount\")\n",
    "\n"
   ]
  },
  {
   "cell_type": "markdown",
   "id": "692ebfcf",
   "metadata": {},
   "source": [
    "# Water reminder app"
   ]
  },
  {
   "cell_type": "code",
   "execution_count": 27,
   "id": "1f54f25e",
   "metadata": {},
   "outputs": [
    {
     "name": "stdout",
     "output_type": "stream",
     "text": [
      "enter number of hours since the user last drank water5\n",
      "You are dehydrated!Drink water now!\n"
     ]
    }
   ],
   "source": [
    "hours=int(input(\"enter number of hours since the user last drank water\"))\n",
    "if(hours>=4):\n",
    "    print(\"You are dehydrated!Drink water now!\")\n",
    "elif(hours>=2 and hours<=3):\n",
    "    print(\"Drink a glass of water\")\n",
    "else:\n",
    "    print(\"you're fine\")"
   ]
  },
  {
   "cell_type": "markdown",
   "id": "8d0274ae",
   "metadata": {},
   "source": [
    "# Python data types-numeric,dictionary,boolean,sequence type\n",
    "Numeric-Integer,complex number,float\n",
    "........................sequence type-strings,list,tuple,range"
   ]
  },
  {
   "cell_type": "code",
   "execution_count": 2,
   "id": "79ef7d74",
   "metadata": {},
   "outputs": [
    {
     "name": "stdout",
     "output_type": "stream",
     "text": [
      "[5, 6, 7, 8, 9] <class 'list'>\n",
      "(1, 2, 3, 4) <class 'tuple'>\n",
      "{8, 1, 3, 6} <class 'set'>\n"
     ]
    }
   ],
   "source": [
    "List=[5,6,7,8,9]\n",
    "Tuple=(1,2,3,4)\n",
    "Set={1,3,6,8}\n",
    "print(List,type(List))\n",
    "print(Tuple,type(Tuple))\n",
    "print(Set,type(Set))\n"
   ]
  },
  {
   "cell_type": "markdown",
   "id": "ff1dda43",
   "metadata": {},
   "source": [
    "# syntax -for loop\n",
    "for element in sequence:\n",
    "    body of for loop"
   ]
  },
  {
   "cell_type": "markdown",
   "id": "d287ad5e",
   "metadata": {},
   "source": [
    "# syntax-range\n",
    "range(stop)\n",
    "range(start,stop)\n",
    "range(start,stop,stepsize)"
   ]
  },
  {
   "cell_type": "code",
   "execution_count": 7,
   "id": "1f1dc7d1",
   "metadata": {},
   "outputs": [
    {
     "name": "stdout",
     "output_type": "stream",
     "text": [
      "range(0, 10)\n",
      "range(10, 20, 2)\n",
      "<class 'range'>\n"
     ]
    }
   ],
   "source": [
    "r1=range(10)\n",
    "print(r1)\n",
    "print(type(r1))\n"
   ]
  },
  {
   "cell_type": "code",
   "execution_count": 11,
   "id": "c6dfa404",
   "metadata": {},
   "outputs": [
    {
     "name": "stdout",
     "output_type": "stream",
     "text": [
      "0 1 2 3 4 5 6 7 8 9 "
     ]
    }
   ],
   "source": [
    "for i in range(10):\n",
    "    print(i,end=\" \")#to get 10 ..value of 10 has be 11 as n-1"
   ]
  },
  {
   "cell_type": "code",
   "execution_count": 12,
   "id": "3f021cbe",
   "metadata": {},
   "outputs": [
    {
     "name": "stdout",
     "output_type": "stream",
     "text": [
      "10\n",
      "12\n",
      "14\n",
      "16\n",
      "18\n"
     ]
    }
   ],
   "source": [
    "for i in range(10,20,2):\n",
    "    print(i)"
   ]
  },
  {
   "cell_type": "markdown",
   "id": "7ed7b8ba",
   "metadata": {},
   "source": [
    "# print natural numbers 1-n where n is user input"
   ]
  },
  {
   "cell_type": "code",
   "execution_count": 17,
   "id": "9f853890",
   "metadata": {},
   "outputs": [
    {
     "name": "stdout",
     "output_type": "stream",
     "text": [
      "enter the number100\n",
      "natural numbers from 1 to 100\n",
      "1 2 3 4 5 6 7 8 9 10 11 12 13 14 15 16 17 18 19 20 21 22 23 24 25 26 27 28 29 30 31 32 33 34 35 36 37 38 39 40 41 42 43 44 45 46 47 48 49 50 51 52 53 54 55 56 57 58 59 60 61 62 63 64 65 66 67 68 69 70 71 72 73 74 75 76 77 78 79 80 81 82 83 84 85 86 87 88 89 90 91 92 93 94 95 96 97 98 99 100 "
     ]
    }
   ],
   "source": [
    "n=int(input(\"enter the number\"))\n",
    "print(f\"natural numbers from 1 to {n}\")\n",
    "for i in range(1,n+1):\n",
    "    print(i,end=\" \")\n"
   ]
  },
  {
   "cell_type": "markdown",
   "id": "81f043b7",
   "metadata": {},
   "source": [
    "# natural  number n to 1"
   ]
  },
  {
   "cell_type": "code",
   "execution_count": 21,
   "id": "050322cf",
   "metadata": {},
   "outputs": [
    {
     "name": "stdout",
     "output_type": "stream",
     "text": [
      "enter the number100\n",
      "natural numbers from 100 to 1\n",
      "100 99 98 97 96 95 94 93 92 91 90 89 88 87 86 85 84 83 82 81 80 79 78 77 76 75 74 73 72 71 70 69 68 67 66 65 64 63 62 61 60 59 58 57 56 55 54 53 52 51 50 49 48 47 46 45 44 43 42 41 40 39 38 37 36 35 34 33 32 31 30 29 28 27 26 25 24 23 22 21 20 19 18 17 16 15 14 13 12 11 10 9 8 7 6 5 4 3 2 1 "
     ]
    }
   ],
   "source": [
    "n=int(input(\"enter the number\"))\n",
    "print(f\"natural numbers from {n} to 1\")\n",
    "for i in range(n,0,-1):\n",
    "    print(i,end=\" \")\n"
   ]
  },
  {
   "cell_type": "markdown",
   "id": "39d5089e",
   "metadata": {},
   "source": [
    "# even numbers 1-n"
   ]
  },
  {
   "cell_type": "code",
   "execution_count": 33,
   "id": "4bcb904f",
   "metadata": {},
   "outputs": [
    {
     "name": "stdout",
     "output_type": "stream",
     "text": [
      "enter the number100\n",
      "even numbers from 1 to 100\n",
      "2 4 6 8 10 12 14 16 18 20 22 24 26 28 30 32 34 36 38 40 42 44 46 48 50 52 54 56 58 60 62 64 66 68 70 72 74 76 78 80 82 84 86 88 90 92 94 96 98 100 "
     ]
    }
   ],
   "source": [
    "n=int(input(\"enter the number\"))\n",
    "print(f\"even numbers from 1 to {n}\")\n",
    "for i in range(1,n+1):\n",
    "    if(i%2==0):\n",
    "        print(i,end=\" \")\n"
   ]
  },
  {
   "cell_type": "markdown",
   "id": "3a15e8bc",
   "metadata": {},
   "source": [
    "# even numbers from n to 1"
   ]
  },
  {
   "cell_type": "code",
   "execution_count": 34,
   "id": "8dd16f7f",
   "metadata": {},
   "outputs": [
    {
     "name": "stdout",
     "output_type": "stream",
     "text": [
      "enter the number100\n",
      "even numbers from 100 to 1\n",
      "100 98 96 94 92 90 88 86 84 82 80 78 76 74 72 70 68 66 64 62 60 58 56 54 52 50 48 46 44 42 40 38 36 34 32 30 28 26 24 22 20 18 16 14 12 10 8 6 4 2 "
     ]
    }
   ],
   "source": [
    "n=int(input(\"enter the number\"))\n",
    "print(f\"even numbers from {n} to 1\")\n",
    "for i in range(n,0,-1):\n",
    "    if(i%2==0):\n",
    "        print(i,end=\" \")\n"
   ]
  },
  {
   "cell_type": "markdown",
   "id": "d9fc31f0",
   "metadata": {},
   "source": [
    "# odd numbers 1-n"
   ]
  },
  {
   "cell_type": "code",
   "execution_count": 36,
   "id": "40d49352",
   "metadata": {},
   "outputs": [
    {
     "name": "stdout",
     "output_type": "stream",
     "text": [
      "enter the number100\n",
      "odd numbers from 1 to 100\n",
      "1 3 5 7 9 11 13 15 17 19 21 23 25 27 29 31 33 35 37 39 41 43 45 47 49 51 53 55 57 59 61 63 65 67 69 71 73 75 77 79 81 83 85 87 89 91 93 95 97 99 "
     ]
    }
   ],
   "source": [
    "n=int(input(\"enter the number\"))\n",
    "print(f\"odd numbers from 1 to {n}\")\n",
    "for i in range(1,n+1,2):\n",
    "        print(i,end=\" \")\n"
   ]
  },
  {
   "cell_type": "markdown",
   "id": "e1a35033",
   "metadata": {},
   "source": [
    "# odd numbers n -1"
   ]
  },
  {
   "cell_type": "code",
   "execution_count": 35,
   "id": "b70f77ef",
   "metadata": {},
   "outputs": [
    {
     "name": "stdout",
     "output_type": "stream",
     "text": [
      "enter the number100\n",
      "odd numbers from 100 to 1\n",
      "99 97 95 93 91 89 87 85 83 81 79 77 75 73 71 69 67 65 63 61 59 57 55 53 51 49 47 45 43 41 39 37 35 33 31 29 27 25 23 21 19 17 15 13 11 9 7 5 3 1 "
     ]
    }
   ],
   "source": [
    "n=int(input(\"enter the number\"))\n",
    "print(f\"odd numbers from {n} to 1\")\n",
    "for i in range(n,0,-1):\n",
    "    if(i%2==1):\n",
    "        print(i,end=\" \")\n"
   ]
  },
  {
   "cell_type": "markdown",
   "id": "44f9a4e6",
   "metadata": {},
   "source": [
    "# multiplication table"
   ]
  },
  {
   "cell_type": "code",
   "execution_count": 48,
   "id": "1ca23ca7",
   "metadata": {},
   "outputs": [
    {
     "name": "stdout",
     "output_type": "stream",
     "text": [
      "enter the number5\n",
      "multiplication table of 5\n",
      " 5*1=5\n",
      " 5*2=10\n",
      " 5*3=15\n",
      " 5*4=20\n",
      " 5*5=25\n",
      " 5*6=30\n",
      " 5*7=35\n",
      " 5*8=40\n",
      " 5*9=45\n",
      " 5*10=50\n"
     ]
    }
   ],
   "source": [
    "n=int(input(\"enter the number\"))\n",
    "print(f\"multiplication table of {n}\")\n",
    "for i in range (1,11):\n",
    "    print(f\" {n}*{i}={n*i}\")"
   ]
  },
  {
   "cell_type": "code",
   "execution_count": null,
   "id": "fe35bcd4",
   "metadata": {},
   "outputs": [],
   "source": []
  }
 ],
 "metadata": {
  "kernelspec": {
   "display_name": "Python 3 (ipykernel)",
   "language": "python",
   "name": "python3"
  },
  "language_info": {
   "codemirror_mode": {
    "name": "ipython",
    "version": 3
   },
   "file_extension": ".py",
   "mimetype": "text/x-python",
   "name": "python",
   "nbconvert_exporter": "python",
   "pygments_lexer": "ipython3",
   "version": "3.9.12"
  }
 },
 "nbformat": 4,
 "nbformat_minor": 5
}
